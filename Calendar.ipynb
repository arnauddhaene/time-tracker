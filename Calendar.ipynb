{
 "cells": [
  {
   "cell_type": "code",
   "execution_count": 23,
   "metadata": {},
   "outputs": [],
   "source": [
    "from __future__ import print_function\n",
    "import numpy as np\n",
    "import datetime as dt\n",
    "from dateutil.parser import isoparse\n",
    "import pickle\n",
    "import os.path\n",
    "import pandas as pd\n",
    "import seaborn as sns\n",
    "import matplotlib.pyplot as plt\n",
    "import plotly.express as px"
   ]
  },
  {
   "cell_type": "code",
   "execution_count": 8,
   "metadata": {},
   "outputs": [],
   "source": [
    "from googleapiclient.discovery import build\n",
    "from google_auth_oauthlib.flow import InstalledAppFlow\n",
    "from google.auth.transport.requests import Request"
   ]
  },
  {
   "cell_type": "code",
   "execution_count": 9,
   "metadata": {},
   "outputs": [],
   "source": [
    "# scope\n",
    "scopes = ['https://www.googleapis.com/auth/calendar']"
   ]
  },
  {
   "cell_type": "code",
   "execution_count": 25,
   "metadata": {},
   "outputs": [],
   "source": [
    "def get_service(calendar_name='personal'):\n",
    "    \"\"\"Shows basic usage of the Google Calendar API.\n",
    "    Prints the start and name of the next 10 events on the user's calendar.\n",
    "    \"\"\"\n",
    "    creds = None\n",
    "    \n",
    "    # The file token.pickle stores the user's access and refresh tokens, and is\n",
    "    # created automatically when the authorization flow completes for the first\n",
    "    # time.\n",
    "    if os.path.exists(f'{calendar_name}-token.pickle'):\n",
    "        with open(f'{calendar_name}-token.pickle', 'rb') as token:\n",
    "            creds = pickle.load(token)\n",
    "    # If there are no (valid) credentials available, let the user log in.\n",
    "    if not creds or not creds.valid:\n",
    "        if creds and creds.expired and creds.refresh_token:\n",
    "            creds.refresh(Request())\n",
    "        else:\n",
    "            flow = InstalledAppFlow.from_client_secrets_file(\n",
    "                f'{calendar_name}-credentials.json', scopes)\n",
    "            creds = flow.run_local_server(port=0)\n",
    "        # Save the credentials for the next run\n",
    "        with open(f'{calendar_name}-token.pickle', 'wb') as token:\n",
    "            pickle.dump(creds, token)\n",
    "\n",
    "    return build('calendar', 'v3', credentials=creds)"
   ]
  },
  {
   "cell_type": "code",
   "execution_count": 56,
   "metadata": {},
   "outputs": [],
   "source": [
    "def get_week_events(service, calendar_id='primary'):\n",
    "    \n",
    "    # Setting now time\n",
    "    now = dt.datetime.utcnow().isoformat() + 'Z' # 'Z' indicates UTC time\n",
    "    # Getting Monday 5 AM\n",
    "    today = dt.date.today()\n",
    "    monday = today - dt.timedelta(days=60)\n",
    "    week_start = dt.datetime.combine(monday, dt.time(5,0)).isoformat() + 'Z'\n",
    "    \n",
    "    return service.events().list(\n",
    "        calendarId=calendar_id, orderBy='startTime',singleEvents=True, \n",
    "        timeMin=week_start, timeMax=now\n",
    "    ).execute()"
   ]
  },
  {
   "cell_type": "code",
   "execution_count": 57,
   "metadata": {},
   "outputs": [],
   "source": [
    "# get_service().calendarList().list().execute()"
   ]
  },
  {
   "cell_type": "code",
   "execution_count": 58,
   "metadata": {},
   "outputs": [],
   "source": [
    "visium_calendar_id = \"bjaqb1128v8fgrknb29d8r07is@group.calendar.google.com\""
   ]
  },
  {
   "cell_type": "code",
   "execution_count": 128,
   "metadata": {},
   "outputs": [],
   "source": [
    "events = pd.DataFrame(data=get_week_events(get_service(), visium_calendar_id).get('items', []))"
   ]
  },
  {
   "cell_type": "code",
   "execution_count": 126,
   "metadata": {},
   "outputs": [],
   "source": [
    "# Pre-processing\n",
    "def pre_process(raw):\n",
    "    # Copy DataFrame\n",
    "    processed = raw.copy()\n",
    "    \n",
    "    # Drop unwanted columns\n",
    "    for col in processed.columns:\n",
    "        if col not in ['start', 'end', 'summary', 'colorId', 'location', 'attendees']:\n",
    "            del processed[col]\n",
    "            \n",
    "    processed.drop(processed[processed.summary == \"Home office\"].index, inplace=True)\n",
    "            \n",
    "    # TODO: verify that this modif is okay and doesn't miss out on anything\n",
    "    idx = pd.isna([date.get('dateTime') for date in processed['end']])\n",
    "    processed.drop(\n",
    "        processed[idx].index,\n",
    "        inplace=True\n",
    "    )\n",
    "\n",
    "    # Dates\n",
    "    processed['end'] = [isoparse(date.get('dateTime')) for date in processed['end']] \n",
    "    processed['start'] = [isoparse(date.get('dateTime')) for date in processed['start']]\n",
    "\n",
    "    processed['duration'] = processed['end'] - processed['start']\n",
    "    processed['duration'] = [td.seconds / 3600 for td in processed['duration']]\n",
    "\n",
    "\n",
    "    processed['datetime'] = pd.to_datetime(processed['start'])\n",
    "    processed['date'] = processed['datetime'].dt.date\n",
    "    del processed['start']\n",
    "    del processed['end']\n",
    "\n",
    "    if 'colorId' in raw.columns:\n",
    "        # colorId mapping\n",
    "        processed['colorId'] = raw['colorId'].fillna(0)\n",
    "        processed['colorId'] = processed['colorId'].astype(int)\n",
    "\n",
    "        # create activity col\n",
    "        activity = ['default'] * 12\n",
    "        activity[4] = 'meditation'\n",
    "        activity[7] = 'gym'\n",
    "        activity[11] = 'DAG'\n",
    "\n",
    "        processed['activity'] = [ activity[colorId] for colorId in processed['colorId'] ]\n",
    "\n",
    "    if 'attendees' in raw.columns:\n",
    "        # count attendees\n",
    "        processed['attendees'] = raw['attendees'].fillna(1)\n",
    "        processed['attendees'] = [1 if attendees == 1 else len(attendees) for attendees in processed['attendees']]\n",
    "\n",
    "    return processed"
   ]
  },
  {
   "cell_type": "code",
   "execution_count": 129,
   "metadata": {},
   "outputs": [
    {
     "data": {
      "application/vnd.plotly.v1+json": {
       "config": {
        "plotlyServerURL": "https://plot.ly"
       },
       "data": [
        {
         "alignmentgroup": "True",
         "hovertemplate": "date=%{x}<br>duration=%{y}<extra></extra>",
         "legendgroup": "",
         "marker": {
          "color": "#636efa"
         },
         "name": "",
         "offsetgroup": "",
         "orientation": "v",
         "showlegend": false,
         "textposition": "auto",
         "type": "bar",
         "x": [
          "2020-09-04",
          "2020-09-07",
          "2020-09-07",
          "2020-09-08",
          "2020-09-08",
          "2020-09-08",
          "2020-09-09",
          "2020-09-09",
          "2020-09-09",
          "2020-09-09",
          "2020-09-09",
          "2020-09-10",
          "2020-09-10",
          "2020-09-11",
          "2020-09-11",
          "2020-09-11",
          "2020-09-14",
          "2020-09-14",
          "2020-09-14",
          "2020-09-14",
          "2020-09-15",
          "2020-09-15",
          "2020-09-17",
          "2020-09-17",
          "2020-09-18",
          "2020-09-18",
          "2020-09-18",
          "2020-09-18",
          "2020-09-18",
          "2020-09-21",
          "2020-09-21",
          "2020-09-22",
          "2020-09-22",
          "2020-09-22",
          "2020-09-22",
          "2020-09-22",
          "2020-09-23",
          "2020-09-23",
          "2020-09-23",
          "2020-09-24",
          "2020-09-24",
          "2020-09-25",
          "2020-09-25",
          "2020-09-25",
          "2020-09-28",
          "2020-09-28",
          "2020-09-29",
          "2020-09-29",
          "2020-09-30",
          "2020-09-30",
          "2020-09-30",
          "2020-09-30",
          "2020-10-01",
          "2020-10-01",
          "2020-10-02",
          "2020-10-02",
          "2020-10-02",
          "2020-10-05",
          "2020-10-06",
          "2020-10-06",
          "2020-10-06",
          "2020-10-06",
          "2020-10-06",
          "2020-10-06",
          "2020-10-06",
          "2020-10-06",
          "2020-10-07",
          "2020-10-07",
          "2020-10-08",
          "2020-10-08",
          "2020-10-08",
          "2020-10-08",
          "2020-10-08",
          "2020-10-08",
          "2020-10-08",
          "2020-10-09",
          "2020-10-09",
          "2020-10-09",
          "2020-10-09",
          "2020-10-09",
          "2020-10-12",
          "2020-10-12",
          "2020-10-12",
          "2020-10-12",
          "2020-10-12",
          "2020-10-12",
          "2020-10-12",
          "2020-10-12",
          "2020-10-13",
          "2020-10-13",
          "2020-10-13",
          "2020-10-13",
          "2020-10-13",
          "2020-10-13",
          "2020-10-13",
          "2020-10-13",
          "2020-10-14",
          "2020-10-14",
          "2020-10-14",
          "2020-10-14",
          "2020-10-14",
          "2020-10-14",
          "2020-10-14",
          "2020-10-15",
          "2020-10-16",
          "2020-10-16",
          "2020-10-16",
          "2020-10-16",
          "2020-10-16",
          "2020-10-16",
          "2020-10-19",
          "2020-10-19",
          "2020-10-19",
          "2020-10-19",
          "2020-10-19",
          "2020-10-19",
          "2020-10-19",
          "2020-10-19",
          "2020-10-20",
          "2020-10-20",
          "2020-10-20",
          "2020-10-20",
          "2020-10-20",
          "2020-10-20",
          "2020-10-20",
          "2020-10-20",
          "2020-10-21",
          "2020-10-21",
          "2020-10-21",
          "2020-10-21",
          "2020-10-21",
          "2020-10-21",
          "2020-10-21",
          "2020-10-21",
          "2020-10-22",
          "2020-10-22",
          "2020-10-22",
          "2020-10-22",
          "2020-10-22",
          "2020-10-22",
          "2020-10-22",
          "2020-10-23",
          "2020-10-23",
          "2020-10-23",
          "2020-10-23",
          "2020-10-23",
          "2020-10-23",
          "2020-10-23",
          "2020-10-23",
          "2020-10-23",
          "2020-10-23",
          "2020-10-23",
          "2020-10-26",
          "2020-10-26",
          "2020-10-26",
          "2020-10-26",
          "2020-10-26",
          "2020-10-26",
          "2020-10-26",
          "2020-10-26",
          "2020-10-27",
          "2020-10-27",
          "2020-10-27",
          "2020-10-27",
          "2020-10-27",
          "2020-10-27",
          "2020-10-27",
          "2020-10-28",
          "2020-10-28",
          "2020-10-28",
          "2020-10-28",
          "2020-10-29",
          "2020-10-29",
          "2020-10-29",
          "2020-10-29",
          "2020-10-29",
          "2020-10-29",
          "2020-10-29",
          "2020-10-30",
          "2020-10-30",
          "2020-10-30",
          "2020-10-30",
          "2020-10-30",
          "2020-10-30",
          "2020-10-30",
          "2020-10-30"
         ],
         "xaxis": "x",
         "y": [
          0.75,
          1.5,
          0.5,
          0.25,
          0.5,
          0.25,
          0.5,
          1,
          0.75,
          0.5,
          1,
          1,
          1,
          1,
          1.5,
          0.75,
          1,
          0.5,
          1,
          0.5,
          1,
          1,
          0.5,
          1,
          1,
          0.5,
          0.5,
          0.5,
          0.75,
          0.75,
          1,
          0.5,
          1,
          1.5,
          1.5,
          1,
          0.5,
          1,
          1.5,
          0.5,
          0.25,
          0.75,
          1,
          0.75,
          0.5,
          0.5,
          0.5,
          5.75,
          1,
          0.25,
          0.25,
          0.5,
          1,
          0.5,
          1,
          0.5,
          0.75,
          0.5,
          1.5,
          0.5,
          0.5,
          1,
          1,
          0.5,
          0.75,
          0.75,
          1,
          1,
          0.5,
          1,
          2,
          1,
          1,
          1,
          1,
          1,
          0.5,
          0.5,
          0.5,
          0.75,
          1,
          1,
          0.75,
          0.5,
          0.5,
          1,
          1.5,
          1,
          1,
          0.5,
          0.5,
          0.5,
          0.5,
          0.75,
          0.5,
          0.5,
          1,
          1,
          0.75,
          0.5,
          0.5,
          0.5,
          0.5,
          0.75,
          1,
          1,
          0.5,
          0.5,
          0.5,
          0.75,
          0.5,
          0.5,
          0.5,
          0.5,
          1,
          0.5,
          0.5,
          1,
          1,
          0.25,
          0.75,
          0.5,
          0.75,
          0.25,
          0.75,
          1.25,
          1,
          1,
          0.5,
          1.5,
          0.75,
          0.75,
          1,
          1,
          1,
          0.5,
          0.5,
          1,
          1,
          0.5,
          0.5,
          0.25,
          0.25,
          0.5,
          0.5,
          0.5,
          1,
          0.5,
          0.5,
          0.25,
          1,
          0.75,
          1,
          1.5,
          0.25,
          0.5,
          1,
          0.5,
          1,
          1,
          1,
          0.5,
          0.5,
          1,
          2,
          1,
          0.5,
          1,
          1,
          0.5,
          0.5,
          0.5,
          1,
          1,
          0.5,
          1,
          1,
          0.5,
          1,
          0.75,
          1,
          0.5,
          0.5,
          0.5,
          0.5,
          0.75
         ],
         "yaxis": "y"
        }
       ],
       "layout": {
        "barmode": "relative",
        "legend": {
         "tracegroupgap": 0
        },
        "margin": {
         "t": 60
        },
        "template": {
         "data": {
          "bar": [
           {
            "error_x": {
             "color": "#2a3f5f"
            },
            "error_y": {
             "color": "#2a3f5f"
            },
            "marker": {
             "line": {
              "color": "#E5ECF6",
              "width": 0.5
             }
            },
            "type": "bar"
           }
          ],
          "barpolar": [
           {
            "marker": {
             "line": {
              "color": "#E5ECF6",
              "width": 0.5
             }
            },
            "type": "barpolar"
           }
          ],
          "carpet": [
           {
            "aaxis": {
             "endlinecolor": "#2a3f5f",
             "gridcolor": "white",
             "linecolor": "white",
             "minorgridcolor": "white",
             "startlinecolor": "#2a3f5f"
            },
            "baxis": {
             "endlinecolor": "#2a3f5f",
             "gridcolor": "white",
             "linecolor": "white",
             "minorgridcolor": "white",
             "startlinecolor": "#2a3f5f"
            },
            "type": "carpet"
           }
          ],
          "choropleth": [
           {
            "colorbar": {
             "outlinewidth": 0,
             "ticks": ""
            },
            "type": "choropleth"
           }
          ],
          "contour": [
           {
            "colorbar": {
             "outlinewidth": 0,
             "ticks": ""
            },
            "colorscale": [
             [
              0,
              "#0d0887"
             ],
             [
              0.1111111111111111,
              "#46039f"
             ],
             [
              0.2222222222222222,
              "#7201a8"
             ],
             [
              0.3333333333333333,
              "#9c179e"
             ],
             [
              0.4444444444444444,
              "#bd3786"
             ],
             [
              0.5555555555555556,
              "#d8576b"
             ],
             [
              0.6666666666666666,
              "#ed7953"
             ],
             [
              0.7777777777777778,
              "#fb9f3a"
             ],
             [
              0.8888888888888888,
              "#fdca26"
             ],
             [
              1,
              "#f0f921"
             ]
            ],
            "type": "contour"
           }
          ],
          "contourcarpet": [
           {
            "colorbar": {
             "outlinewidth": 0,
             "ticks": ""
            },
            "type": "contourcarpet"
           }
          ],
          "heatmap": [
           {
            "colorbar": {
             "outlinewidth": 0,
             "ticks": ""
            },
            "colorscale": [
             [
              0,
              "#0d0887"
             ],
             [
              0.1111111111111111,
              "#46039f"
             ],
             [
              0.2222222222222222,
              "#7201a8"
             ],
             [
              0.3333333333333333,
              "#9c179e"
             ],
             [
              0.4444444444444444,
              "#bd3786"
             ],
             [
              0.5555555555555556,
              "#d8576b"
             ],
             [
              0.6666666666666666,
              "#ed7953"
             ],
             [
              0.7777777777777778,
              "#fb9f3a"
             ],
             [
              0.8888888888888888,
              "#fdca26"
             ],
             [
              1,
              "#f0f921"
             ]
            ],
            "type": "heatmap"
           }
          ],
          "heatmapgl": [
           {
            "colorbar": {
             "outlinewidth": 0,
             "ticks": ""
            },
            "colorscale": [
             [
              0,
              "#0d0887"
             ],
             [
              0.1111111111111111,
              "#46039f"
             ],
             [
              0.2222222222222222,
              "#7201a8"
             ],
             [
              0.3333333333333333,
              "#9c179e"
             ],
             [
              0.4444444444444444,
              "#bd3786"
             ],
             [
              0.5555555555555556,
              "#d8576b"
             ],
             [
              0.6666666666666666,
              "#ed7953"
             ],
             [
              0.7777777777777778,
              "#fb9f3a"
             ],
             [
              0.8888888888888888,
              "#fdca26"
             ],
             [
              1,
              "#f0f921"
             ]
            ],
            "type": "heatmapgl"
           }
          ],
          "histogram": [
           {
            "marker": {
             "colorbar": {
              "outlinewidth": 0,
              "ticks": ""
             }
            },
            "type": "histogram"
           }
          ],
          "histogram2d": [
           {
            "colorbar": {
             "outlinewidth": 0,
             "ticks": ""
            },
            "colorscale": [
             [
              0,
              "#0d0887"
             ],
             [
              0.1111111111111111,
              "#46039f"
             ],
             [
              0.2222222222222222,
              "#7201a8"
             ],
             [
              0.3333333333333333,
              "#9c179e"
             ],
             [
              0.4444444444444444,
              "#bd3786"
             ],
             [
              0.5555555555555556,
              "#d8576b"
             ],
             [
              0.6666666666666666,
              "#ed7953"
             ],
             [
              0.7777777777777778,
              "#fb9f3a"
             ],
             [
              0.8888888888888888,
              "#fdca26"
             ],
             [
              1,
              "#f0f921"
             ]
            ],
            "type": "histogram2d"
           }
          ],
          "histogram2dcontour": [
           {
            "colorbar": {
             "outlinewidth": 0,
             "ticks": ""
            },
            "colorscale": [
             [
              0,
              "#0d0887"
             ],
             [
              0.1111111111111111,
              "#46039f"
             ],
             [
              0.2222222222222222,
              "#7201a8"
             ],
             [
              0.3333333333333333,
              "#9c179e"
             ],
             [
              0.4444444444444444,
              "#bd3786"
             ],
             [
              0.5555555555555556,
              "#d8576b"
             ],
             [
              0.6666666666666666,
              "#ed7953"
             ],
             [
              0.7777777777777778,
              "#fb9f3a"
             ],
             [
              0.8888888888888888,
              "#fdca26"
             ],
             [
              1,
              "#f0f921"
             ]
            ],
            "type": "histogram2dcontour"
           }
          ],
          "mesh3d": [
           {
            "colorbar": {
             "outlinewidth": 0,
             "ticks": ""
            },
            "type": "mesh3d"
           }
          ],
          "parcoords": [
           {
            "line": {
             "colorbar": {
              "outlinewidth": 0,
              "ticks": ""
             }
            },
            "type": "parcoords"
           }
          ],
          "pie": [
           {
            "automargin": true,
            "type": "pie"
           }
          ],
          "scatter": [
           {
            "marker": {
             "colorbar": {
              "outlinewidth": 0,
              "ticks": ""
             }
            },
            "type": "scatter"
           }
          ],
          "scatter3d": [
           {
            "line": {
             "colorbar": {
              "outlinewidth": 0,
              "ticks": ""
             }
            },
            "marker": {
             "colorbar": {
              "outlinewidth": 0,
              "ticks": ""
             }
            },
            "type": "scatter3d"
           }
          ],
          "scattercarpet": [
           {
            "marker": {
             "colorbar": {
              "outlinewidth": 0,
              "ticks": ""
             }
            },
            "type": "scattercarpet"
           }
          ],
          "scattergeo": [
           {
            "marker": {
             "colorbar": {
              "outlinewidth": 0,
              "ticks": ""
             }
            },
            "type": "scattergeo"
           }
          ],
          "scattergl": [
           {
            "marker": {
             "colorbar": {
              "outlinewidth": 0,
              "ticks": ""
             }
            },
            "type": "scattergl"
           }
          ],
          "scattermapbox": [
           {
            "marker": {
             "colorbar": {
              "outlinewidth": 0,
              "ticks": ""
             }
            },
            "type": "scattermapbox"
           }
          ],
          "scatterpolar": [
           {
            "marker": {
             "colorbar": {
              "outlinewidth": 0,
              "ticks": ""
             }
            },
            "type": "scatterpolar"
           }
          ],
          "scatterpolargl": [
           {
            "marker": {
             "colorbar": {
              "outlinewidth": 0,
              "ticks": ""
             }
            },
            "type": "scatterpolargl"
           }
          ],
          "scatterternary": [
           {
            "marker": {
             "colorbar": {
              "outlinewidth": 0,
              "ticks": ""
             }
            },
            "type": "scatterternary"
           }
          ],
          "surface": [
           {
            "colorbar": {
             "outlinewidth": 0,
             "ticks": ""
            },
            "colorscale": [
             [
              0,
              "#0d0887"
             ],
             [
              0.1111111111111111,
              "#46039f"
             ],
             [
              0.2222222222222222,
              "#7201a8"
             ],
             [
              0.3333333333333333,
              "#9c179e"
             ],
             [
              0.4444444444444444,
              "#bd3786"
             ],
             [
              0.5555555555555556,
              "#d8576b"
             ],
             [
              0.6666666666666666,
              "#ed7953"
             ],
             [
              0.7777777777777778,
              "#fb9f3a"
             ],
             [
              0.8888888888888888,
              "#fdca26"
             ],
             [
              1,
              "#f0f921"
             ]
            ],
            "type": "surface"
           }
          ],
          "table": [
           {
            "cells": {
             "fill": {
              "color": "#EBF0F8"
             },
             "line": {
              "color": "white"
             }
            },
            "header": {
             "fill": {
              "color": "#C8D4E3"
             },
             "line": {
              "color": "white"
             }
            },
            "type": "table"
           }
          ]
         },
         "layout": {
          "annotationdefaults": {
           "arrowcolor": "#2a3f5f",
           "arrowhead": 0,
           "arrowwidth": 1
          },
          "coloraxis": {
           "colorbar": {
            "outlinewidth": 0,
            "ticks": ""
           }
          },
          "colorscale": {
           "diverging": [
            [
             0,
             "#8e0152"
            ],
            [
             0.1,
             "#c51b7d"
            ],
            [
             0.2,
             "#de77ae"
            ],
            [
             0.3,
             "#f1b6da"
            ],
            [
             0.4,
             "#fde0ef"
            ],
            [
             0.5,
             "#f7f7f7"
            ],
            [
             0.6,
             "#e6f5d0"
            ],
            [
             0.7,
             "#b8e186"
            ],
            [
             0.8,
             "#7fbc41"
            ],
            [
             0.9,
             "#4d9221"
            ],
            [
             1,
             "#276419"
            ]
           ],
           "sequential": [
            [
             0,
             "#0d0887"
            ],
            [
             0.1111111111111111,
             "#46039f"
            ],
            [
             0.2222222222222222,
             "#7201a8"
            ],
            [
             0.3333333333333333,
             "#9c179e"
            ],
            [
             0.4444444444444444,
             "#bd3786"
            ],
            [
             0.5555555555555556,
             "#d8576b"
            ],
            [
             0.6666666666666666,
             "#ed7953"
            ],
            [
             0.7777777777777778,
             "#fb9f3a"
            ],
            [
             0.8888888888888888,
             "#fdca26"
            ],
            [
             1,
             "#f0f921"
            ]
           ],
           "sequentialminus": [
            [
             0,
             "#0d0887"
            ],
            [
             0.1111111111111111,
             "#46039f"
            ],
            [
             0.2222222222222222,
             "#7201a8"
            ],
            [
             0.3333333333333333,
             "#9c179e"
            ],
            [
             0.4444444444444444,
             "#bd3786"
            ],
            [
             0.5555555555555556,
             "#d8576b"
            ],
            [
             0.6666666666666666,
             "#ed7953"
            ],
            [
             0.7777777777777778,
             "#fb9f3a"
            ],
            [
             0.8888888888888888,
             "#fdca26"
            ],
            [
             1,
             "#f0f921"
            ]
           ]
          },
          "colorway": [
           "#636efa",
           "#EF553B",
           "#00cc96",
           "#ab63fa",
           "#FFA15A",
           "#19d3f3",
           "#FF6692",
           "#B6E880",
           "#FF97FF",
           "#FECB52"
          ],
          "font": {
           "color": "#2a3f5f"
          },
          "geo": {
           "bgcolor": "white",
           "lakecolor": "white",
           "landcolor": "#E5ECF6",
           "showlakes": true,
           "showland": true,
           "subunitcolor": "white"
          },
          "hoverlabel": {
           "align": "left"
          },
          "hovermode": "closest",
          "mapbox": {
           "style": "light"
          },
          "paper_bgcolor": "white",
          "plot_bgcolor": "#E5ECF6",
          "polar": {
           "angularaxis": {
            "gridcolor": "white",
            "linecolor": "white",
            "ticks": ""
           },
           "bgcolor": "#E5ECF6",
           "radialaxis": {
            "gridcolor": "white",
            "linecolor": "white",
            "ticks": ""
           }
          },
          "scene": {
           "xaxis": {
            "backgroundcolor": "#E5ECF6",
            "gridcolor": "white",
            "gridwidth": 2,
            "linecolor": "white",
            "showbackground": true,
            "ticks": "",
            "zerolinecolor": "white"
           },
           "yaxis": {
            "backgroundcolor": "#E5ECF6",
            "gridcolor": "white",
            "gridwidth": 2,
            "linecolor": "white",
            "showbackground": true,
            "ticks": "",
            "zerolinecolor": "white"
           },
           "zaxis": {
            "backgroundcolor": "#E5ECF6",
            "gridcolor": "white",
            "gridwidth": 2,
            "linecolor": "white",
            "showbackground": true,
            "ticks": "",
            "zerolinecolor": "white"
           }
          },
          "shapedefaults": {
           "line": {
            "color": "#2a3f5f"
           }
          },
          "ternary": {
           "aaxis": {
            "gridcolor": "white",
            "linecolor": "white",
            "ticks": ""
           },
           "baxis": {
            "gridcolor": "white",
            "linecolor": "white",
            "ticks": ""
           },
           "bgcolor": "#E5ECF6",
           "caxis": {
            "gridcolor": "white",
            "linecolor": "white",
            "ticks": ""
           }
          },
          "title": {
           "x": 0.05
          },
          "xaxis": {
           "automargin": true,
           "gridcolor": "white",
           "linecolor": "white",
           "ticks": "",
           "title": {
            "standoff": 15
           },
           "zerolinecolor": "white",
           "zerolinewidth": 2
          },
          "yaxis": {
           "automargin": true,
           "gridcolor": "white",
           "linecolor": "white",
           "ticks": "",
           "title": {
            "standoff": 15
           },
           "zerolinecolor": "white",
           "zerolinewidth": 2
          }
         }
        },
        "xaxis": {
         "anchor": "y",
         "domain": [
          0,
          1
         ],
         "title": {
          "text": "date"
         }
        },
        "yaxis": {
         "anchor": "x",
         "domain": [
          0,
          1
         ],
         "title": {
          "text": "duration"
         }
        }
       }
      },
      "text/html": [
       "<div>\n",
       "        \n",
       "        \n",
       "            <div id=\"e806792b-52dd-4fad-ab04-bc12d51b5248\" class=\"plotly-graph-div\" style=\"height:525px; width:100%;\"></div>\n",
       "            <script type=\"text/javascript\">\n",
       "                require([\"plotly\"], function(Plotly) {\n",
       "                    window.PLOTLYENV=window.PLOTLYENV || {};\n",
       "                    \n",
       "                if (document.getElementById(\"e806792b-52dd-4fad-ab04-bc12d51b5248\")) {\n",
       "                    Plotly.newPlot(\n",
       "                        'e806792b-52dd-4fad-ab04-bc12d51b5248',\n",
       "                        [{\"alignmentgroup\": \"True\", \"hovertemplate\": \"date=%{x}<br>duration=%{y}<extra></extra>\", \"legendgroup\": \"\", \"marker\": {\"color\": \"#636efa\"}, \"name\": \"\", \"offsetgroup\": \"\", \"orientation\": \"v\", \"showlegend\": false, \"textposition\": \"auto\", \"type\": \"bar\", \"x\": [\"2020-09-04\", \"2020-09-07\", \"2020-09-07\", \"2020-09-08\", \"2020-09-08\", \"2020-09-08\", \"2020-09-09\", \"2020-09-09\", \"2020-09-09\", \"2020-09-09\", \"2020-09-09\", \"2020-09-10\", \"2020-09-10\", \"2020-09-11\", \"2020-09-11\", \"2020-09-11\", \"2020-09-14\", \"2020-09-14\", \"2020-09-14\", \"2020-09-14\", \"2020-09-15\", \"2020-09-15\", \"2020-09-17\", \"2020-09-17\", \"2020-09-18\", \"2020-09-18\", \"2020-09-18\", \"2020-09-18\", \"2020-09-18\", \"2020-09-21\", \"2020-09-21\", \"2020-09-22\", \"2020-09-22\", \"2020-09-22\", \"2020-09-22\", \"2020-09-22\", \"2020-09-23\", \"2020-09-23\", \"2020-09-23\", \"2020-09-24\", \"2020-09-24\", \"2020-09-25\", \"2020-09-25\", \"2020-09-25\", \"2020-09-28\", \"2020-09-28\", \"2020-09-29\", \"2020-09-29\", \"2020-09-30\", \"2020-09-30\", \"2020-09-30\", \"2020-09-30\", \"2020-10-01\", \"2020-10-01\", \"2020-10-02\", \"2020-10-02\", \"2020-10-02\", \"2020-10-05\", \"2020-10-06\", \"2020-10-06\", \"2020-10-06\", \"2020-10-06\", \"2020-10-06\", \"2020-10-06\", \"2020-10-06\", \"2020-10-06\", \"2020-10-07\", \"2020-10-07\", \"2020-10-08\", \"2020-10-08\", \"2020-10-08\", \"2020-10-08\", \"2020-10-08\", \"2020-10-08\", \"2020-10-08\", \"2020-10-09\", \"2020-10-09\", \"2020-10-09\", \"2020-10-09\", \"2020-10-09\", \"2020-10-12\", \"2020-10-12\", \"2020-10-12\", \"2020-10-12\", \"2020-10-12\", \"2020-10-12\", \"2020-10-12\", \"2020-10-12\", \"2020-10-13\", \"2020-10-13\", \"2020-10-13\", \"2020-10-13\", \"2020-10-13\", \"2020-10-13\", \"2020-10-13\", \"2020-10-13\", \"2020-10-14\", \"2020-10-14\", \"2020-10-14\", \"2020-10-14\", \"2020-10-14\", \"2020-10-14\", \"2020-10-14\", \"2020-10-15\", \"2020-10-16\", \"2020-10-16\", \"2020-10-16\", \"2020-10-16\", \"2020-10-16\", \"2020-10-16\", \"2020-10-19\", \"2020-10-19\", \"2020-10-19\", \"2020-10-19\", \"2020-10-19\", \"2020-10-19\", \"2020-10-19\", \"2020-10-19\", \"2020-10-20\", \"2020-10-20\", \"2020-10-20\", \"2020-10-20\", \"2020-10-20\", \"2020-10-20\", \"2020-10-20\", \"2020-10-20\", \"2020-10-21\", \"2020-10-21\", \"2020-10-21\", \"2020-10-21\", \"2020-10-21\", \"2020-10-21\", \"2020-10-21\", \"2020-10-21\", \"2020-10-22\", \"2020-10-22\", \"2020-10-22\", \"2020-10-22\", \"2020-10-22\", \"2020-10-22\", \"2020-10-22\", \"2020-10-23\", \"2020-10-23\", \"2020-10-23\", \"2020-10-23\", \"2020-10-23\", \"2020-10-23\", \"2020-10-23\", \"2020-10-23\", \"2020-10-23\", \"2020-10-23\", \"2020-10-23\", \"2020-10-26\", \"2020-10-26\", \"2020-10-26\", \"2020-10-26\", \"2020-10-26\", \"2020-10-26\", \"2020-10-26\", \"2020-10-26\", \"2020-10-27\", \"2020-10-27\", \"2020-10-27\", \"2020-10-27\", \"2020-10-27\", \"2020-10-27\", \"2020-10-27\", \"2020-10-28\", \"2020-10-28\", \"2020-10-28\", \"2020-10-28\", \"2020-10-29\", \"2020-10-29\", \"2020-10-29\", \"2020-10-29\", \"2020-10-29\", \"2020-10-29\", \"2020-10-29\", \"2020-10-30\", \"2020-10-30\", \"2020-10-30\", \"2020-10-30\", \"2020-10-30\", \"2020-10-30\", \"2020-10-30\", \"2020-10-30\"], \"xaxis\": \"x\", \"y\": [0.75, 1.5, 0.5, 0.25, 0.5, 0.25, 0.5, 1.0, 0.75, 0.5, 1.0, 1.0, 1.0, 1.0, 1.5, 0.75, 1.0, 0.5, 1.0, 0.5, 1.0, 1.0, 0.5, 1.0, 1.0, 0.5, 0.5, 0.5, 0.75, 0.75, 1.0, 0.5, 1.0, 1.5, 1.5, 1.0, 0.5, 1.0, 1.5, 0.5, 0.25, 0.75, 1.0, 0.75, 0.5, 0.5, 0.5, 5.75, 1.0, 0.25, 0.25, 0.5, 1.0, 0.5, 1.0, 0.5, 0.75, 0.5, 1.5, 0.5, 0.5, 1.0, 1.0, 0.5, 0.75, 0.75, 1.0, 1.0, 0.5, 1.0, 2.0, 1.0, 1.0, 1.0, 1.0, 1.0, 0.5, 0.5, 0.5, 0.75, 1.0, 1.0, 0.75, 0.5, 0.5, 1.0, 1.5, 1.0, 1.0, 0.5, 0.5, 0.5, 0.5, 0.75, 0.5, 0.5, 1.0, 1.0, 0.75, 0.5, 0.5, 0.5, 0.5, 0.75, 1.0, 1.0, 0.5, 0.5, 0.5, 0.75, 0.5, 0.5, 0.5, 0.5, 1.0, 0.5, 0.5, 1.0, 1.0, 0.25, 0.75, 0.5, 0.75, 0.25, 0.75, 1.25, 1.0, 1.0, 0.5, 1.5, 0.75, 0.75, 1.0, 1.0, 1.0, 0.5, 0.5, 1.0, 1.0, 0.5, 0.5, 0.25, 0.25, 0.5, 0.5, 0.5, 1.0, 0.5, 0.5, 0.25, 1.0, 0.75, 1.0, 1.5, 0.25, 0.5, 1.0, 0.5, 1.0, 1.0, 1.0, 0.5, 0.5, 1.0, 2.0, 1.0, 0.5, 1.0, 1.0, 0.5, 0.5, 0.5, 1.0, 1.0, 0.5, 1.0, 1.0, 0.5, 1.0, 0.75, 1.0, 0.5, 0.5, 0.5, 0.5, 0.75], \"yaxis\": \"y\"}],\n",
       "                        {\"barmode\": \"relative\", \"legend\": {\"tracegroupgap\": 0}, \"margin\": {\"t\": 60}, \"template\": {\"data\": {\"bar\": [{\"error_x\": {\"color\": \"#2a3f5f\"}, \"error_y\": {\"color\": \"#2a3f5f\"}, \"marker\": {\"line\": {\"color\": \"#E5ECF6\", \"width\": 0.5}}, \"type\": \"bar\"}], \"barpolar\": [{\"marker\": {\"line\": {\"color\": \"#E5ECF6\", \"width\": 0.5}}, \"type\": \"barpolar\"}], \"carpet\": [{\"aaxis\": {\"endlinecolor\": \"#2a3f5f\", \"gridcolor\": \"white\", \"linecolor\": \"white\", \"minorgridcolor\": \"white\", \"startlinecolor\": \"#2a3f5f\"}, \"baxis\": {\"endlinecolor\": \"#2a3f5f\", \"gridcolor\": \"white\", \"linecolor\": \"white\", \"minorgridcolor\": \"white\", \"startlinecolor\": \"#2a3f5f\"}, \"type\": \"carpet\"}], \"choropleth\": [{\"colorbar\": {\"outlinewidth\": 0, \"ticks\": \"\"}, \"type\": \"choropleth\"}], \"contour\": [{\"colorbar\": {\"outlinewidth\": 0, \"ticks\": \"\"}, \"colorscale\": [[0.0, \"#0d0887\"], [0.1111111111111111, \"#46039f\"], [0.2222222222222222, \"#7201a8\"], [0.3333333333333333, \"#9c179e\"], [0.4444444444444444, \"#bd3786\"], [0.5555555555555556, \"#d8576b\"], [0.6666666666666666, \"#ed7953\"], [0.7777777777777778, \"#fb9f3a\"], [0.8888888888888888, \"#fdca26\"], [1.0, \"#f0f921\"]], \"type\": \"contour\"}], \"contourcarpet\": [{\"colorbar\": {\"outlinewidth\": 0, \"ticks\": \"\"}, \"type\": \"contourcarpet\"}], \"heatmap\": [{\"colorbar\": {\"outlinewidth\": 0, \"ticks\": \"\"}, \"colorscale\": [[0.0, \"#0d0887\"], [0.1111111111111111, \"#46039f\"], [0.2222222222222222, \"#7201a8\"], [0.3333333333333333, \"#9c179e\"], [0.4444444444444444, \"#bd3786\"], [0.5555555555555556, \"#d8576b\"], [0.6666666666666666, \"#ed7953\"], [0.7777777777777778, \"#fb9f3a\"], [0.8888888888888888, \"#fdca26\"], [1.0, \"#f0f921\"]], \"type\": \"heatmap\"}], \"heatmapgl\": [{\"colorbar\": {\"outlinewidth\": 0, \"ticks\": \"\"}, \"colorscale\": [[0.0, \"#0d0887\"], [0.1111111111111111, \"#46039f\"], [0.2222222222222222, \"#7201a8\"], [0.3333333333333333, \"#9c179e\"], [0.4444444444444444, \"#bd3786\"], [0.5555555555555556, \"#d8576b\"], [0.6666666666666666, \"#ed7953\"], [0.7777777777777778, \"#fb9f3a\"], [0.8888888888888888, \"#fdca26\"], [1.0, \"#f0f921\"]], \"type\": \"heatmapgl\"}], \"histogram\": [{\"marker\": {\"colorbar\": {\"outlinewidth\": 0, \"ticks\": \"\"}}, \"type\": \"histogram\"}], \"histogram2d\": [{\"colorbar\": {\"outlinewidth\": 0, \"ticks\": \"\"}, \"colorscale\": [[0.0, \"#0d0887\"], [0.1111111111111111, \"#46039f\"], [0.2222222222222222, \"#7201a8\"], [0.3333333333333333, \"#9c179e\"], [0.4444444444444444, \"#bd3786\"], [0.5555555555555556, \"#d8576b\"], [0.6666666666666666, \"#ed7953\"], [0.7777777777777778, \"#fb9f3a\"], [0.8888888888888888, \"#fdca26\"], [1.0, \"#f0f921\"]], \"type\": \"histogram2d\"}], \"histogram2dcontour\": [{\"colorbar\": {\"outlinewidth\": 0, \"ticks\": \"\"}, \"colorscale\": [[0.0, \"#0d0887\"], [0.1111111111111111, \"#46039f\"], [0.2222222222222222, \"#7201a8\"], [0.3333333333333333, \"#9c179e\"], [0.4444444444444444, \"#bd3786\"], [0.5555555555555556, \"#d8576b\"], [0.6666666666666666, \"#ed7953\"], [0.7777777777777778, \"#fb9f3a\"], [0.8888888888888888, \"#fdca26\"], [1.0, \"#f0f921\"]], \"type\": \"histogram2dcontour\"}], \"mesh3d\": [{\"colorbar\": {\"outlinewidth\": 0, \"ticks\": \"\"}, \"type\": \"mesh3d\"}], \"parcoords\": [{\"line\": {\"colorbar\": {\"outlinewidth\": 0, \"ticks\": \"\"}}, \"type\": \"parcoords\"}], \"pie\": [{\"automargin\": true, \"type\": \"pie\"}], \"scatter\": [{\"marker\": {\"colorbar\": {\"outlinewidth\": 0, \"ticks\": \"\"}}, \"type\": \"scatter\"}], \"scatter3d\": [{\"line\": {\"colorbar\": {\"outlinewidth\": 0, \"ticks\": \"\"}}, \"marker\": {\"colorbar\": {\"outlinewidth\": 0, \"ticks\": \"\"}}, \"type\": \"scatter3d\"}], \"scattercarpet\": [{\"marker\": {\"colorbar\": {\"outlinewidth\": 0, \"ticks\": \"\"}}, \"type\": \"scattercarpet\"}], \"scattergeo\": [{\"marker\": {\"colorbar\": {\"outlinewidth\": 0, \"ticks\": \"\"}}, \"type\": \"scattergeo\"}], \"scattergl\": [{\"marker\": {\"colorbar\": {\"outlinewidth\": 0, \"ticks\": \"\"}}, \"type\": \"scattergl\"}], \"scattermapbox\": [{\"marker\": {\"colorbar\": {\"outlinewidth\": 0, \"ticks\": \"\"}}, \"type\": \"scattermapbox\"}], \"scatterpolar\": [{\"marker\": {\"colorbar\": {\"outlinewidth\": 0, \"ticks\": \"\"}}, \"type\": \"scatterpolar\"}], \"scatterpolargl\": [{\"marker\": {\"colorbar\": {\"outlinewidth\": 0, \"ticks\": \"\"}}, \"type\": \"scatterpolargl\"}], \"scatterternary\": [{\"marker\": {\"colorbar\": {\"outlinewidth\": 0, \"ticks\": \"\"}}, \"type\": \"scatterternary\"}], \"surface\": [{\"colorbar\": {\"outlinewidth\": 0, \"ticks\": \"\"}, \"colorscale\": [[0.0, \"#0d0887\"], [0.1111111111111111, \"#46039f\"], [0.2222222222222222, \"#7201a8\"], [0.3333333333333333, \"#9c179e\"], [0.4444444444444444, \"#bd3786\"], [0.5555555555555556, \"#d8576b\"], [0.6666666666666666, \"#ed7953\"], [0.7777777777777778, \"#fb9f3a\"], [0.8888888888888888, \"#fdca26\"], [1.0, \"#f0f921\"]], \"type\": \"surface\"}], \"table\": [{\"cells\": {\"fill\": {\"color\": \"#EBF0F8\"}, \"line\": {\"color\": \"white\"}}, \"header\": {\"fill\": {\"color\": \"#C8D4E3\"}, \"line\": {\"color\": \"white\"}}, \"type\": \"table\"}]}, \"layout\": {\"annotationdefaults\": {\"arrowcolor\": \"#2a3f5f\", \"arrowhead\": 0, \"arrowwidth\": 1}, \"coloraxis\": {\"colorbar\": {\"outlinewidth\": 0, \"ticks\": \"\"}}, \"colorscale\": {\"diverging\": [[0, \"#8e0152\"], [0.1, \"#c51b7d\"], [0.2, \"#de77ae\"], [0.3, \"#f1b6da\"], [0.4, \"#fde0ef\"], [0.5, \"#f7f7f7\"], [0.6, \"#e6f5d0\"], [0.7, \"#b8e186\"], [0.8, \"#7fbc41\"], [0.9, \"#4d9221\"], [1, \"#276419\"]], \"sequential\": [[0.0, \"#0d0887\"], [0.1111111111111111, \"#46039f\"], [0.2222222222222222, \"#7201a8\"], [0.3333333333333333, \"#9c179e\"], [0.4444444444444444, \"#bd3786\"], [0.5555555555555556, \"#d8576b\"], [0.6666666666666666, \"#ed7953\"], [0.7777777777777778, \"#fb9f3a\"], [0.8888888888888888, \"#fdca26\"], [1.0, \"#f0f921\"]], \"sequentialminus\": [[0.0, \"#0d0887\"], [0.1111111111111111, \"#46039f\"], [0.2222222222222222, \"#7201a8\"], [0.3333333333333333, \"#9c179e\"], [0.4444444444444444, \"#bd3786\"], [0.5555555555555556, \"#d8576b\"], [0.6666666666666666, \"#ed7953\"], [0.7777777777777778, \"#fb9f3a\"], [0.8888888888888888, \"#fdca26\"], [1.0, \"#f0f921\"]]}, \"colorway\": [\"#636efa\", \"#EF553B\", \"#00cc96\", \"#ab63fa\", \"#FFA15A\", \"#19d3f3\", \"#FF6692\", \"#B6E880\", \"#FF97FF\", \"#FECB52\"], \"font\": {\"color\": \"#2a3f5f\"}, \"geo\": {\"bgcolor\": \"white\", \"lakecolor\": \"white\", \"landcolor\": \"#E5ECF6\", \"showlakes\": true, \"showland\": true, \"subunitcolor\": \"white\"}, \"hoverlabel\": {\"align\": \"left\"}, \"hovermode\": \"closest\", \"mapbox\": {\"style\": \"light\"}, \"paper_bgcolor\": \"white\", \"plot_bgcolor\": \"#E5ECF6\", \"polar\": {\"angularaxis\": {\"gridcolor\": \"white\", \"linecolor\": \"white\", \"ticks\": \"\"}, \"bgcolor\": \"#E5ECF6\", \"radialaxis\": {\"gridcolor\": \"white\", \"linecolor\": \"white\", \"ticks\": \"\"}}, \"scene\": {\"xaxis\": {\"backgroundcolor\": \"#E5ECF6\", \"gridcolor\": \"white\", \"gridwidth\": 2, \"linecolor\": \"white\", \"showbackground\": true, \"ticks\": \"\", \"zerolinecolor\": \"white\"}, \"yaxis\": {\"backgroundcolor\": \"#E5ECF6\", \"gridcolor\": \"white\", \"gridwidth\": 2, \"linecolor\": \"white\", \"showbackground\": true, \"ticks\": \"\", \"zerolinecolor\": \"white\"}, \"zaxis\": {\"backgroundcolor\": \"#E5ECF6\", \"gridcolor\": \"white\", \"gridwidth\": 2, \"linecolor\": \"white\", \"showbackground\": true, \"ticks\": \"\", \"zerolinecolor\": \"white\"}}, \"shapedefaults\": {\"line\": {\"color\": \"#2a3f5f\"}}, \"ternary\": {\"aaxis\": {\"gridcolor\": \"white\", \"linecolor\": \"white\", \"ticks\": \"\"}, \"baxis\": {\"gridcolor\": \"white\", \"linecolor\": \"white\", \"ticks\": \"\"}, \"bgcolor\": \"#E5ECF6\", \"caxis\": {\"gridcolor\": \"white\", \"linecolor\": \"white\", \"ticks\": \"\"}}, \"title\": {\"x\": 0.05}, \"xaxis\": {\"automargin\": true, \"gridcolor\": \"white\", \"linecolor\": \"white\", \"ticks\": \"\", \"title\": {\"standoff\": 15}, \"zerolinecolor\": \"white\", \"zerolinewidth\": 2}, \"yaxis\": {\"automargin\": true, \"gridcolor\": \"white\", \"linecolor\": \"white\", \"ticks\": \"\", \"title\": {\"standoff\": 15}, \"zerolinecolor\": \"white\", \"zerolinewidth\": 2}}}, \"xaxis\": {\"anchor\": \"y\", \"domain\": [0.0, 1.0], \"title\": {\"text\": \"date\"}}, \"yaxis\": {\"anchor\": \"x\", \"domain\": [0.0, 1.0], \"title\": {\"text\": \"duration\"}}},\n",
       "                        {\"responsive\": true}\n",
       "                    ).then(function(){\n",
       "                            \n",
       "var gd = document.getElementById('e806792b-52dd-4fad-ab04-bc12d51b5248');\n",
       "var x = new MutationObserver(function (mutations, observer) {{\n",
       "        var display = window.getComputedStyle(gd).display;\n",
       "        if (!display || display === 'none') {{\n",
       "            console.log([gd, 'removed!']);\n",
       "            Plotly.purge(gd);\n",
       "            observer.disconnect();\n",
       "        }}\n",
       "}});\n",
       "\n",
       "// Listen for the removal of the full notebook cells\n",
       "var notebookContainer = gd.closest('#notebook-container');\n",
       "if (notebookContainer) {{\n",
       "    x.observe(notebookContainer, {childList: true});\n",
       "}}\n",
       "\n",
       "// Listen for the clearing of the current output cell\n",
       "var outputEl = gd.closest('.output');\n",
       "if (outputEl) {{\n",
       "    x.observe(outputEl, {childList: true});\n",
       "}}\n",
       "\n",
       "                        })\n",
       "                };\n",
       "                });\n",
       "            </script>\n",
       "        </div>"
      ]
     },
     "metadata": {},
     "output_type": "display_data"
    }
   ],
   "source": [
    "fig = px.bar(pre_process(events), x='date', y='duration')\n",
    "fig"
   ]
  },
  {
   "cell_type": "code",
   "execution_count": null,
   "metadata": {},
   "outputs": [],
   "source": []
  }
 ],
 "metadata": {
  "kernelspec": {
   "display_name": "Python 3",
   "language": "python",
   "name": "python3"
  },
  "language_info": {
   "codemirror_mode": {
    "name": "ipython",
    "version": 3
   },
   "file_extension": ".py",
   "mimetype": "text/x-python",
   "name": "python",
   "nbconvert_exporter": "python",
   "pygments_lexer": "ipython3",
   "version": "3.7.6"
  }
 },
 "nbformat": 4,
 "nbformat_minor": 4
}
